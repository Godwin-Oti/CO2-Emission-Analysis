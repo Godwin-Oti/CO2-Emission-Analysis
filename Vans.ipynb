{
 "cells": [
  {
   "cell_type": "code",
   "execution_count": 1,
   "metadata": {},
   "outputs": [
    {
     "name": "stdout",
     "output_type": "stream",
     "text": [
      "Hallo World!\n"
     ]
    }
   ],
   "source": [
    "print(\"Hallo World!\")"
   ]
  },
  {
   "cell_type": "code",
   "execution_count": 2,
   "metadata": {},
   "outputs": [],
   "source": [
    "# importing libraries\n",
    "import pandas as pd\n",
    "import numpy as np\n",
    "import matplotlib as pyplt\n",
    "import seaborn as sns"
   ]
  },
  {
   "cell_type": "markdown",
   "metadata": {},
   "source": [
    "## CO2 Emission"
   ]
  },
  {
   "cell_type": "markdown",
   "metadata": {},
   "source": [
    "About Van_Raw Dataset"
   ]
  },
  {
   "cell_type": "code",
   "execution_count": 3,
   "metadata": {},
   "outputs": [
    {
     "data": {
      "text/plain": [
       "'\\n\\nSure, let me explain each of the terms mentioned:\\n\\n1. **OBFCM (On-Board Fuel Consumption Meter)**: It refers to a device or system installed in a vehicle that measures and records the amount of fuel consumed by the vehicle during operation. OBFCM systems are commonly used in vehicles to monitor fuel consumption and efficiency.\\n\\n2. **Data Source**: This term refers to the origin or the place from which the data is obtained. It could be a sensor, a database, a file, or any other means of collecting data.\\n\\n3. **ID**: ID stands for Identification. In a dataset, it typically represents a unique identifier for each record or entry. It helps to uniquely identify each data point in the dataset.\\n\\n4. **OBFCM Reporting Period**: This is the time period over which the data from the OBFCM device is reported or recorded. It could be daily, weekly, monthly, etc., depending on how the data is collected and processed.\\n\\n5. **Registration Year**: This refers to the year in which the vehicle was registered. It provides information about the age or vintage of the vehicle.\\n\\n6. **Total fuel consumed (lifetime) (l)**: This represents the total amount of fuel consumed by the vehicle over its lifetime, measured in liters.\\n\\n7. **Total distance travelled (lifetime) (km)**: This indicates the total distance covered by the vehicle over its lifetime, measured in kilometers.\\n\\n8. **Total distance travelled in charge depleting operation with engine off (lifetime) (km)**: It represents the total distance traveled by the vehicle while operating in a charge depleting mode with the engine turned off, over its lifetime, measured in kilometers.\\n\\n9. **Total distance travelled in charge depleting operation with engine running (lifetime) (km)**: This is similar to the previous term, but it represents the total distance traveled by the vehicle in charge depleting mode with the engine running.\\n\\n10. **Total distance travelled in driver-selectable charge increasing operation (lifetime) (km)**: This refers to the total distance covered by the vehicle while operating in a mode where the driver can increase the charge of the battery, over its lifetime, measured in kilometers.\\n\\n11. **Total fuel consumed in charge depleting operation (lifetime) (l)**: It indicates the total amount of fuel consumed by the vehicle while operating in charge depleting mode over its lifetime, measured in liters.\\n\\n12. **Total fuel consumed in driver-selectable charge increasing operation (lifetime) (l)**: Similar to the previous term, but it represents the fuel consumed while operating in a mode where the driver can increase the charge of the battery.\\n\\n13. **Total grid energy into the battery (lifetime) (kWh)**: This refers to the total amount of energy supplied from an external power grid to charge the vehicle\\'s battery over its lifetime, measured in kilowatt-hours.\\n\\n14. **Used in calculation**: This likely indicates whether the specific data field was used in any calculations or analyses.\\n\\nThese terms are typically found in datasets related to vehicle performance, fuel consumption, and energy usage, particularly in the context of electric and hybrid vehicles.\\n\\nThe purpose of the charge-depleting mode is to maximize the use of electric power stored in the battery, thereby reducing fuel consumption and emissions, especially during city driving or other low-speed, stop-and-go situations where electric propulsion is most efficient.\\n\\nIn a charge-depleting mode, the vehicle primarily operates using the energy stored in its battery pack. During this mode, the vehicle\\'s electric motor(s) are used to propel the vehicle, drawing power from the battery. This mode is called \"depleting\" because it\\'s aimed at using up the stored energy in the battery until it reaches a certain threshold level, typically referred to as the \"minimum state of charge\" (SOC).\\n\\n.In summary, charge-depleting mode in hybrid and plug-in hybrid vehicles prioritizes the use of electric power from the battery to propel the vehicle, leading to improved fuel efficiency and reduced environmental impact compared to traditional internal combustion engine vehicles.\\n\\n\\n\\n'"
      ]
     },
     "execution_count": 3,
     "metadata": {},
     "output_type": "execute_result"
    }
   ],
   "source": [
    "\"\"\"\n",
    "\n",
    "Sure, let me explain each of the terms mentioned:\n",
    "\n",
    "1. **OBFCM (On-Board Fuel Consumption Meter)**: It refers to a device or system installed in a vehicle that measures and records the amount of fuel consumed by the vehicle during operation. OBFCM systems are commonly used in vehicles to monitor fuel consumption and efficiency.\n",
    "\n",
    "2. **Data Source**: This term refers to the origin or the place from which the data is obtained. It could be a sensor, a database, a file, or any other means of collecting data.\n",
    "\n",
    "3. **ID**: ID stands for Identification. In a dataset, it typically represents a unique identifier for each record or entry. It helps to uniquely identify each data point in the dataset.\n",
    "\n",
    "4. **OBFCM Reporting Period**: This is the time period over which the data from the OBFCM device is reported or recorded. It could be daily, weekly, monthly, etc., depending on how the data is collected and processed.\n",
    "\n",
    "5. **Registration Year**: This refers to the year in which the vehicle was registered. It provides information about the age or vintage of the vehicle.\n",
    "\n",
    "6. **Total fuel consumed (lifetime) (l)**: This represents the total amount of fuel consumed by the vehicle over its lifetime, measured in liters.\n",
    "\n",
    "7. **Total distance travelled (lifetime) (km)**: This indicates the total distance covered by the vehicle over its lifetime, measured in kilometers.\n",
    "\n",
    "8. **Total distance travelled in charge depleting operation with engine off (lifetime) (km)**: It represents the total distance traveled by the vehicle while operating in a charge depleting mode with the engine turned off, over its lifetime, measured in kilometers.\n",
    "\n",
    "9. **Total distance travelled in charge depleting operation with engine running (lifetime) (km)**: This is similar to the previous term, but it represents the total distance traveled by the vehicle in charge depleting mode with the engine running.\n",
    "\n",
    "10. **Total distance travelled in driver-selectable charge increasing operation (lifetime) (km)**: This refers to the total distance covered by the vehicle while operating in a mode where the driver can increase the charge of the battery, over its lifetime, measured in kilometers.\n",
    "\n",
    "11. **Total fuel consumed in charge depleting operation (lifetime) (l)**: It indicates the total amount of fuel consumed by the vehicle while operating in charge depleting mode over its lifetime, measured in liters.\n",
    "\n",
    "12. **Total fuel consumed in driver-selectable charge increasing operation (lifetime) (l)**: Similar to the previous term, but it represents the fuel consumed while operating in a mode where the driver can increase the charge of the battery.\n",
    "\n",
    "13. **Total grid energy into the battery (lifetime) (kWh)**: This refers to the total amount of energy supplied from an external power grid to charge the vehicle's battery over its lifetime, measured in kilowatt-hours.\n",
    "\n",
    "14. **Used in calculation**: This likely indicates whether the specific data field was used in any calculations or analyses.\n",
    "\n",
    "These terms are typically found in datasets related to vehicle performance, fuel consumption, and energy usage, particularly in the context of electric and hybrid vehicles.\n",
    "\n",
    "The purpose of the charge-depleting mode is to maximize the use of electric power stored in the battery, thereby reducing fuel consumption and emissions, especially during city driving or other low-speed, stop-and-go situations where electric propulsion is most efficient.\n",
    "\n",
    "In a charge-depleting mode, the vehicle primarily operates using the energy stored in its battery pack. During this mode, the vehicle's electric motor(s) are used to propel the vehicle, drawing power from the battery. This mode is called \"depleting\" because it's aimed at using up the stored energy in the battery until it reaches a certain threshold level, typically referred to as the \"minimum state of charge\" (SOC).\n",
    "\n",
    ".In summary, charge-depleting mode in hybrid and plug-in hybrid vehicles prioritizes the use of electric power from the battery to propel the vehicle, leading to improved fuel efficiency and reduced environmental impact compared to traditional internal combustion engine vehicles.\n",
    "\n",
    "\n",
    "\n",
    "\"\"\""
   ]
  },
  {
   "cell_type": "markdown",
   "metadata": {},
   "source": [
    "Abour Van_agg Datset"
   ]
  },
  {
   "cell_type": "code",
   "execution_count": 4,
   "metadata": {},
   "outputs": [
    {
     "data": {
      "text/plain": [
       "\"\\n\\nIt appears that you have a dataset with several columns related to vehicle manufacturer, fuel type, number of vehicles, fuel consumption, CO2 emissions, and gaps between different measurements. Let's break down the meaning of each column:\\n\\n1. **Manufacturer**: This column likely contains the name of the vehicle manufacturer or brand.\\n\\n2. **Fuel Type**: This column indicates the type of fuel used by the vehicles, such as gasoline, diesel, hybrid, electric, etc.\\n\\n3. **Number of vehicles**: This column represents the count or quantity of vehicles for each manufacturer and fuel type combination.\\n\\n4. **OBFCM Fuel Consumption (l/100 km)**: This column provides the fuel consumption rate measured by an On-Board Fuel Consumption Meter (OBFCM), typically expressed in liters per 100 kilometers.\\n\\n5. **WLTP Fuel Consumption (l/100 km)**: This column represents the fuel consumption rate according to the Worldwide Harmonized Light Vehicles Test Procedure (WLTP), also expressed in liters per 100 kilometers.\\n\\n6. **Absolute Gap Fuel Consumption (l/100 km)**: This column represents the absolute difference or gap between OBFCM and WLTP fuel consumption values, measured in liters per 100 kilometers.\\n\\n7. **Percentage Gap Fuel Consumption (%)**: This column represents the percentage difference or gap between OBFCM and WLTP fuel consumption values, expressed as a percentage.\\n\\n8. **OBFCM CO2 Emissions (g/km)**: This column provides the CO2 emissions rate measured by an On-Board Fuel Consumption Meter (OBFCM), typically expressed in grams per kilometer.\\n\\n9. **WLTP CO2 Emissions (g/km)**: This column represents the CO2 emissions rate according to the Worldwide Harmonized Light Vehicles Test Procedure (WLTP), also expressed in grams per kilometer.\\n\\n10. **Absolute Gap CO2 Emissions (g/km)**: This column represents the absolute difference or gap between OBFCM and WLTP CO2 emissions values, measured in grams per kilometer.\\n\\n11. **Percentage Gap CO2 Emissions (%)**: This column represents the percentage difference or gap between OBFCM and WLTP CO2 emissions values, expressed as a percentage.\\n\\n12. **OBFCM Fuel Consumption Weighted (l/100 km)**: This column represents a weighted average of fuel consumption rates based on specific conditions or scenarios, as measured by an OBFCM.\\n\\n13. **WLTP Fuel Consumption Weighted (l/100 km)**: This column represents a weighted average of fuel consumption rates based on specific conditions or scenarios, as measured by WLTP.\\n\\n14. **Absolute Gap Fuel Consumption Weighted (l/100 km)**: This column represents the absolute difference or gap between OBFCM and WLTP weighted fuel consumption values.\\n\\n15. **Percentage Gap Fuel Consumption Weighted (%)**: This column represents the percentage difference or gap between OBFCM and WLTP weighted fuel consumption values, expressed as a percentage.\\n\\n16. **OBFCM CO2 Emissions Weighted (g/km)**: This column represents a weighted average of CO2 emissions rates based on specific conditions or scenarios, as measured by an OBFCM.\\n\\n17. **WLTP CO2 Emissions Weighted (g/km)**: This column represents a weighted average of CO2 emissions rates based on specific conditions or scenarios, as measured by WLTP.\\n\\n18. **Absolute Gap CO2 Emissions Weighted (g/km)**: This column represents the absolute difference or gap between OBFCM and WLTP weighted CO2 emissions values.\\n\\n19. **Percentage Gap CO2 Emissions Weighted (%)**: This column represents the percentage difference or gap between OBFCM and WLTP weighted CO2 emissions values, expressed as a percentage.\\n\\nThese columns provide comprehensive information about fuel consumption, CO2 emissions, and their discrepancies as measured by different methods (OBFCM and WLTP) and under different conditions. They can be analyzed to assess the accuracy of measurement methods, evaluate the environmental impact of vehicles, and compare performance across different manufacturers and fuel types.\\n\\n\""
      ]
     },
     "execution_count": 4,
     "metadata": {},
     "output_type": "execute_result"
    }
   ],
   "source": [
    "\"\"\"\n",
    "\n",
    "It appears that you have a dataset with several columns related to vehicle manufacturer, fuel type, number of vehicles, fuel consumption, CO2 emissions, and gaps between different measurements. Let's break down the meaning of each column:\n",
    "\n",
    "1. **Manufacturer**: This column likely contains the name of the vehicle manufacturer or brand.\n",
    "\n",
    "2. **Fuel Type**: This column indicates the type of fuel used by the vehicles, such as gasoline, diesel, hybrid, electric, etc.\n",
    "\n",
    "3. **Number of vehicles**: This column represents the count or quantity of vehicles for each manufacturer and fuel type combination.\n",
    "\n",
    "4. **OBFCM Fuel Consumption (l/100 km)**: This column provides the fuel consumption rate measured by an On-Board Fuel Consumption Meter (OBFCM), typically expressed in liters per 100 kilometers.\n",
    "\n",
    "5. **WLTP Fuel Consumption (l/100 km)**: This column represents the fuel consumption rate according to the Worldwide Harmonized Light Vehicles Test Procedure (WLTP), also expressed in liters per 100 kilometers.\n",
    "\n",
    "6. **Absolute Gap Fuel Consumption (l/100 km)**: This column represents the absolute difference or gap between OBFCM and WLTP fuel consumption values, measured in liters per 100 kilometers.\n",
    "\n",
    "7. **Percentage Gap Fuel Consumption (%)**: This column represents the percentage difference or gap between OBFCM and WLTP fuel consumption values, expressed as a percentage.\n",
    "\n",
    "8. **OBFCM CO2 Emissions (g/km)**: This column provides the CO2 emissions rate measured by an On-Board Fuel Consumption Meter (OBFCM), typically expressed in grams per kilometer.\n",
    "\n",
    "9. **WLTP CO2 Emissions (g/km)**: This column represents the CO2 emissions rate according to the Worldwide Harmonized Light Vehicles Test Procedure (WLTP), also expressed in grams per kilometer.\n",
    "\n",
    "10. **Absolute Gap CO2 Emissions (g/km)**: This column represents the absolute difference or gap between OBFCM and WLTP CO2 emissions values, measured in grams per kilometer.\n",
    "\n",
    "11. **Percentage Gap CO2 Emissions (%)**: This column represents the percentage difference or gap between OBFCM and WLTP CO2 emissions values, expressed as a percentage.\n",
    "\n",
    "12. **OBFCM Fuel Consumption Weighted (l/100 km)**: This column represents a weighted average of fuel consumption rates based on specific conditions or scenarios, as measured by an OBFCM.\n",
    "\n",
    "13. **WLTP Fuel Consumption Weighted (l/100 km)**: This column represents a weighted average of fuel consumption rates based on specific conditions or scenarios, as measured by WLTP.\n",
    "\n",
    "14. **Absolute Gap Fuel Consumption Weighted (l/100 km)**: This column represents the absolute difference or gap between OBFCM and WLTP weighted fuel consumption values.\n",
    "\n",
    "15. **Percentage Gap Fuel Consumption Weighted (%)**: This column represents the percentage difference or gap between OBFCM and WLTP weighted fuel consumption values, expressed as a percentage.\n",
    "\n",
    "16. **OBFCM CO2 Emissions Weighted (g/km)**: This column represents a weighted average of CO2 emissions rates based on specific conditions or scenarios, as measured by an OBFCM.\n",
    "\n",
    "17. **WLTP CO2 Emissions Weighted (g/km)**: This column represents a weighted average of CO2 emissions rates based on specific conditions or scenarios, as measured by WLTP.\n",
    "\n",
    "18. **Absolute Gap CO2 Emissions Weighted (g/km)**: This column represents the absolute difference or gap between OBFCM and WLTP weighted CO2 emissions values.\n",
    "\n",
    "19. **Percentage Gap CO2 Emissions Weighted (%)**: This column represents the percentage difference or gap between OBFCM and WLTP weighted CO2 emissions values, expressed as a percentage.\n",
    "\n",
    "These columns provide comprehensive information about fuel consumption, CO2 emissions, and their discrepancies as measured by different methods (OBFCM and WLTP) and under different conditions. They can be analyzed to assess the accuracy of measurement methods, evaluate the environmental impact of vehicles, and compare performance across different manufacturers and fuel types.\n",
    "\n",
    "\"\"\""
   ]
  },
  {
   "cell_type": "markdown",
   "metadata": {},
   "source": [
    "## Loading Data set"
   ]
  },
  {
   "cell_type": "code",
   "execution_count": 5,
   "metadata": {},
   "outputs": [],
   "source": [
    "## loading raw van Data set\n",
    "vans=pd.read_csv(\"2021_Vans_Raw.csv\")"
   ]
  },
  {
   "cell_type": "code",
   "execution_count": 6,
   "metadata": {},
   "outputs": [
    {
     "data": {
      "text/html": [
       "<div>\n",
       "<style scoped>\n",
       "    .dataframe tbody tr th:only-of-type {\n",
       "        vertical-align: middle;\n",
       "    }\n",
       "\n",
       "    .dataframe tbody tr th {\n",
       "        vertical-align: top;\n",
       "    }\n",
       "\n",
       "    .dataframe thead th {\n",
       "        text-align: right;\n",
       "    }\n",
       "</style>\n",
       "<table border=\"1\" class=\"dataframe\">\n",
       "  <thead>\n",
       "    <tr style=\"text-align: right;\">\n",
       "      <th></th>\n",
       "      <th>OBFCM data source</th>\n",
       "      <th>ID</th>\n",
       "      <th>OBFCM ReportingPeriod</th>\n",
       "      <th>Registration Year</th>\n",
       "      <th>Total fuel consumed (lifetime) (l)</th>\n",
       "      <th>Total distance travelled (lifetime) (km)</th>\n",
       "      <th>Total distance travelled in charge depleting operation with engine off (lifetime) (km)</th>\n",
       "      <th>Total distance travelled in charge depleting operation with engine running (lifetime) (km)</th>\n",
       "      <th>Total distance travelled in driver-selectable charge increasing operation (lifetime)  (km)</th>\n",
       "      <th>Total fuel consumed in charge depleting operation (lifetime) (l)</th>\n",
       "      <th>Total fuel consumed in driver-selectable charge increasing operation (lifetime) (l)</th>\n",
       "      <th>Total grid energy into the battery (lifetime) (kWh)</th>\n",
       "      <th>Used in calculation</th>\n",
       "    </tr>\n",
       "  </thead>\n",
       "  <tbody>\n",
       "    <tr>\n",
       "      <th>0</th>\n",
       "      <td>OEM</td>\n",
       "      <td>5765924</td>\n",
       "      <td>2021</td>\n",
       "      <td>2021</td>\n",
       "      <td>302.89</td>\n",
       "      <td>5116.0</td>\n",
       "      <td>NaN</td>\n",
       "      <td>NaN</td>\n",
       "      <td>NaN</td>\n",
       "      <td>NaN</td>\n",
       "      <td>NaN</td>\n",
       "      <td>NaN</td>\n",
       "      <td>1</td>\n",
       "    </tr>\n",
       "    <tr>\n",
       "      <th>1</th>\n",
       "      <td>OEM</td>\n",
       "      <td>5766790</td>\n",
       "      <td>2021</td>\n",
       "      <td>2021</td>\n",
       "      <td>233.31</td>\n",
       "      <td>3525.7</td>\n",
       "      <td>NaN</td>\n",
       "      <td>NaN</td>\n",
       "      <td>NaN</td>\n",
       "      <td>NaN</td>\n",
       "      <td>NaN</td>\n",
       "      <td>NaN</td>\n",
       "      <td>1</td>\n",
       "    </tr>\n",
       "    <tr>\n",
       "      <th>2</th>\n",
       "      <td>OEM</td>\n",
       "      <td>8407539</td>\n",
       "      <td>2021</td>\n",
       "      <td>2021</td>\n",
       "      <td>683.79</td>\n",
       "      <td>10267.4</td>\n",
       "      <td>NaN</td>\n",
       "      <td>NaN</td>\n",
       "      <td>NaN</td>\n",
       "      <td>NaN</td>\n",
       "      <td>NaN</td>\n",
       "      <td>NaN</td>\n",
       "      <td>1</td>\n",
       "    </tr>\n",
       "    <tr>\n",
       "      <th>3</th>\n",
       "      <td>OEM</td>\n",
       "      <td>8407565</td>\n",
       "      <td>2021</td>\n",
       "      <td>2021</td>\n",
       "      <td>1300.49</td>\n",
       "      <td>17753.3</td>\n",
       "      <td>NaN</td>\n",
       "      <td>NaN</td>\n",
       "      <td>NaN</td>\n",
       "      <td>NaN</td>\n",
       "      <td>NaN</td>\n",
       "      <td>NaN</td>\n",
       "      <td>1</td>\n",
       "    </tr>\n",
       "    <tr>\n",
       "      <th>4</th>\n",
       "      <td>OEM</td>\n",
       "      <td>8407505</td>\n",
       "      <td>2021</td>\n",
       "      <td>2021</td>\n",
       "      <td>1157.96</td>\n",
       "      <td>15453.3</td>\n",
       "      <td>NaN</td>\n",
       "      <td>NaN</td>\n",
       "      <td>NaN</td>\n",
       "      <td>NaN</td>\n",
       "      <td>NaN</td>\n",
       "      <td>NaN</td>\n",
       "      <td>1</td>\n",
       "    </tr>\n",
       "  </tbody>\n",
       "</table>\n",
       "</div>"
      ],
      "text/plain": [
       "  OBFCM data source       ID  OBFCM ReportingPeriod  Registration Year  \\\n",
       "0               OEM  5765924                   2021               2021   \n",
       "1               OEM  5766790                   2021               2021   \n",
       "2               OEM  8407539                   2021               2021   \n",
       "3               OEM  8407565                   2021               2021   \n",
       "4               OEM  8407505                   2021               2021   \n",
       "\n",
       "   Total fuel consumed (lifetime) (l)  \\\n",
       "0                              302.89   \n",
       "1                              233.31   \n",
       "2                              683.79   \n",
       "3                             1300.49   \n",
       "4                             1157.96   \n",
       "\n",
       "   Total distance travelled (lifetime) (km)  \\\n",
       "0                                    5116.0   \n",
       "1                                    3525.7   \n",
       "2                                   10267.4   \n",
       "3                                   17753.3   \n",
       "4                                   15453.3   \n",
       "\n",
       "   Total distance travelled in charge depleting operation with engine off (lifetime) (km)  \\\n",
       "0                                                NaN                                        \n",
       "1                                                NaN                                        \n",
       "2                                                NaN                                        \n",
       "3                                                NaN                                        \n",
       "4                                                NaN                                        \n",
       "\n",
       "   Total distance travelled in charge depleting operation with engine running (lifetime) (km)  \\\n",
       "0                                                NaN                                            \n",
       "1                                                NaN                                            \n",
       "2                                                NaN                                            \n",
       "3                                                NaN                                            \n",
       "4                                                NaN                                            \n",
       "\n",
       "   Total distance travelled in driver-selectable charge increasing operation (lifetime)  (km)  \\\n",
       "0                                                NaN                                            \n",
       "1                                                NaN                                            \n",
       "2                                                NaN                                            \n",
       "3                                                NaN                                            \n",
       "4                                                NaN                                            \n",
       "\n",
       "   Total fuel consumed in charge depleting operation (lifetime) (l)  \\\n",
       "0                                                NaN                  \n",
       "1                                                NaN                  \n",
       "2                                                NaN                  \n",
       "3                                                NaN                  \n",
       "4                                                NaN                  \n",
       "\n",
       "   Total fuel consumed in driver-selectable charge increasing operation (lifetime) (l)  \\\n",
       "0                                                NaN                                     \n",
       "1                                                NaN                                     \n",
       "2                                                NaN                                     \n",
       "3                                                NaN                                     \n",
       "4                                                NaN                                     \n",
       "\n",
       "   Total grid energy into the battery (lifetime) (kWh)  Used in calculation  \n",
       "0                                                NaN                      1  \n",
       "1                                                NaN                      1  \n",
       "2                                                NaN                      1  \n",
       "3                                                NaN                      1  \n",
       "4                                                NaN                      1  "
      ]
     },
     "execution_count": 6,
     "metadata": {},
     "output_type": "execute_result"
    }
   ],
   "source": [
    "vans.head()"
   ]
  },
  {
   "cell_type": "code",
   "execution_count": 7,
   "metadata": {},
   "outputs": [
    {
     "name": "stdout",
     "output_type": "stream",
     "text": [
      "<class 'pandas.core.frame.DataFrame'>\n",
      "RangeIndex: 12301 entries, 0 to 12300\n",
      "Data columns (total 13 columns):\n",
      " #   Column                                                                                      Non-Null Count  Dtype  \n",
      "---  ------                                                                                      --------------  -----  \n",
      " 0   OBFCM data source                                                                           12301 non-null  object \n",
      " 1   ID                                                                                          12301 non-null  int64  \n",
      " 2   OBFCM ReportingPeriod                                                                       12301 non-null  int64  \n",
      " 3   Registration Year                                                                           12301 non-null  int64  \n",
      " 4   Total fuel consumed (lifetime) (l)                                                          12301 non-null  float64\n",
      " 5   Total distance travelled (lifetime) (km)                                                    12301 non-null  float64\n",
      " 6   Total distance travelled in charge depleting operation with engine off (lifetime) (km)      4666 non-null   float64\n",
      " 7   Total distance travelled in charge depleting operation with engine running (lifetime) (km)  4666 non-null   float64\n",
      " 8   Total distance travelled in driver-selectable charge increasing operation (lifetime)  (km)  4666 non-null   float64\n",
      " 9   Total fuel consumed in charge depleting operation (lifetime) (l)                            4666 non-null   float64\n",
      " 10  Total fuel consumed in driver-selectable charge increasing operation (lifetime) (l)         4666 non-null   float64\n",
      " 11  Total grid energy into the battery (lifetime) (kWh)                                         4666 non-null   float64\n",
      " 12  Used in calculation                                                                         12301 non-null  int64  \n",
      "dtypes: float64(8), int64(4), object(1)\n",
      "memory usage: 1.2+ MB\n"
     ]
    }
   ],
   "source": [
    "vans.info()"
   ]
  },
  {
   "cell_type": "code",
   "execution_count": 8,
   "metadata": {},
   "outputs": [
    {
     "data": {
      "text/plain": [
       "OBFCM data source                                                                                0\n",
       "ID                                                                                               0\n",
       "OBFCM ReportingPeriod                                                                            0\n",
       "Registration Year                                                                                0\n",
       "Total fuel consumed (lifetime) (l)                                                               0\n",
       "Total distance travelled (lifetime) (km)                                                         0\n",
       "Total distance travelled in charge depleting operation with engine off (lifetime) (km)        7635\n",
       "Total distance travelled in charge depleting operation with engine running (lifetime) (km)    7635\n",
       "Total distance travelled in driver-selectable charge increasing operation (lifetime)  (km)    7635\n",
       "Total fuel consumed in charge depleting operation (lifetime) (l)                              7635\n",
       "Total fuel consumed in driver-selectable charge increasing operation (lifetime) (l)           7635\n",
       "Total grid energy into the battery (lifetime) (kWh)                                           7635\n",
       "Used in calculation                                                                              0\n",
       "dtype: int64"
      ]
     },
     "execution_count": 8,
     "metadata": {},
     "output_type": "execute_result"
    }
   ],
   "source": [
    "vans.isnull().sum()"
   ]
  },
  {
   "cell_type": "code",
   "execution_count": 9,
   "metadata": {},
   "outputs": [
    {
     "name": "stdout",
     "output_type": "stream",
     "text": [
      "<class 'pandas.core.frame.DataFrame'>\n",
      "RangeIndex: 12301 entries, 0 to 12300\n",
      "Data columns (total 13 columns):\n",
      " #   Column                                                                                      Non-Null Count  Dtype  \n",
      "---  ------                                                                                      --------------  -----  \n",
      " 0   OBFCM data source                                                                           12301 non-null  object \n",
      " 1   ID                                                                                          12301 non-null  int64  \n",
      " 2   OBFCM ReportingPeriod                                                                       12301 non-null  int64  \n",
      " 3   Registration Year                                                                           12301 non-null  int64  \n",
      " 4   Total fuel consumed (lifetime) (l)                                                          12301 non-null  float64\n",
      " 5   Total distance travelled (lifetime) (km)                                                    12301 non-null  float64\n",
      " 6   Total distance travelled in charge depleting operation with engine off (lifetime) (km)      4666 non-null   float64\n",
      " 7   Total distance travelled in charge depleting operation with engine running (lifetime) (km)  4666 non-null   float64\n",
      " 8   Total distance travelled in driver-selectable charge increasing operation (lifetime)  (km)  4666 non-null   float64\n",
      " 9   Total fuel consumed in charge depleting operation (lifetime) (l)                            4666 non-null   float64\n",
      " 10  Total fuel consumed in driver-selectable charge increasing operation (lifetime) (l)         4666 non-null   float64\n",
      " 11  Total grid energy into the battery (lifetime) (kWh)                                         4666 non-null   float64\n",
      " 12  Used in calculation                                                                         12301 non-null  int64  \n",
      "dtypes: float64(8), int64(4), object(1)\n",
      "memory usage: 1.2+ MB\n"
     ]
    }
   ],
   "source": [
    "vans.info()"
   ]
  },
  {
   "cell_type": "markdown",
   "metadata": {},
   "source": [
    "Fixing missing values"
   ]
  },
  {
   "cell_type": "code",
   "execution_count": 15,
   "metadata": {},
   "outputs": [],
   "source": [
    "\n",
    "# Calculate the mean of each column\n",
    "#Total distance travelled in charge depleting operation with engine off (lifetime) (km)\n",
    "column1_mean = vans['Total distance travelled in charge depleting operation with engine off (lifetime) (km)'].mean()\n",
    "\n",
    "# Fill missing values with the mean\n",
    "vans['Total distance travelled in charge depleting operation with engine off (lifetime) (km)'] = vans['Total distance travelled in charge depleting operation with engine off (lifetime) (km)'].fillna(column1_mean)\n",
    "\n",
    "\n",
    "#Total distance travelled in charge depleting operation with engine off (lifetime) (km)\n",
    "column2_mean = vans['Total distance travelled in charge depleting operation with engine running (lifetime) (km)'].mean()\n",
    "\n",
    "# Fill missing values with the mean\n",
    "vans['Total distance travelled in charge depleting operation with engine running (lifetime) (km)'] = vans['Total distance travelled in charge depleting operation with engine running (lifetime) (km)'].fillna(column2_mean)\n",
    "\n",
    "\n",
    "#Total distance travelled in driver-selectable charge increasing operation (lifetime)  (km)\n",
    "column3_mean = vans['Total distance travelled in driver-selectable charge increasing operation (lifetime)  (km)'].mean()\n",
    "\n",
    "# Fill missing values with the mean\n",
    "vans['Total distance travelled in driver-selectable charge increasing operation (lifetime)  (km)'] = vans['Total distance travelled in driver-selectable charge increasing operation (lifetime)  (km)'].fillna(column3_mean)\n",
    "\n",
    "\n",
    "#Total fuel consumed in charge depleting operation (lifetime) (l)\n",
    "column4_mean = vans['Total fuel consumed in charge depleting operation (lifetime) (l)'].mean()\n",
    "\n",
    "# Fill missing values with the mean\n",
    "vans['Total fuel consumed in charge depleting operation (lifetime) (l)'] = vans['Total fuel consumed in charge depleting operation (lifetime) (l)'].fillna(column4_mean)\n",
    "\n",
    "\n",
    "#Total fuel consumed in driver-selectable charge increasing operation (lifetime) (l)\n",
    "column5_mean = vans['Total fuel consumed in driver-selectable charge increasing operation (lifetime) (l)'].mean()\n",
    "\n",
    "# Fill missing values with the mean\n",
    "vans['Total fuel consumed in driver-selectable charge increasing operation (lifetime) (l)'] = vans['Total fuel consumed in driver-selectable charge increasing operation (lifetime) (l)'].fillna(column5_mean)\n",
    "\n",
    "#Total grid energy into the battery (lifetime) (kWh)\n",
    "column6_mean = vans['Total grid energy into the battery (lifetime) (kWh)'].mean()\n",
    "\n",
    "# Fill missing values with the mean\n",
    "vans['Total grid energy into the battery (lifetime) (kWh)'] = vans['Total grid energy into the battery (lifetime) (kWh)'].fillna(column6_mean)\n",
    "\n",
    "\n",
    "\n"
   ]
  },
  {
   "cell_type": "code",
   "execution_count": 17,
   "metadata": {},
   "outputs": [
    {
     "name": "stdout",
     "output_type": "stream",
     "text": [
      "<class 'pandas.core.frame.DataFrame'>\n",
      "RangeIndex: 12301 entries, 0 to 12300\n",
      "Data columns (total 13 columns):\n",
      " #   Column                                                                                      Non-Null Count  Dtype  \n",
      "---  ------                                                                                      --------------  -----  \n",
      " 0   OBFCM data source                                                                           12301 non-null  object \n",
      " 1   ID                                                                                          12301 non-null  int64  \n",
      " 2   OBFCM ReportingPeriod                                                                       12301 non-null  int64  \n",
      " 3   Registration Year                                                                           12301 non-null  int64  \n",
      " 4   Total fuel consumed (lifetime) (l)                                                          12301 non-null  float64\n",
      " 5   Total distance travelled (lifetime) (km)                                                    12301 non-null  float64\n",
      " 6   Total distance travelled in charge depleting operation with engine off (lifetime) (km)      12301 non-null  float64\n",
      " 7   Total distance travelled in charge depleting operation with engine running (lifetime) (km)  12301 non-null  float64\n",
      " 8   Total distance travelled in driver-selectable charge increasing operation (lifetime)  (km)  12301 non-null  float64\n",
      " 9   Total fuel consumed in charge depleting operation (lifetime) (l)                            12301 non-null  float64\n",
      " 10  Total fuel consumed in driver-selectable charge increasing operation (lifetime) (l)         12301 non-null  float64\n",
      " 11  Total grid energy into the battery (lifetime) (kWh)                                         12301 non-null  float64\n",
      " 12  Used in calculation                                                                         12301 non-null  int64  \n",
      "dtypes: float64(8), int64(4), object(1)\n",
      "memory usage: 1.2+ MB\n"
     ]
    }
   ],
   "source": [
    "vans.info()"
   ]
  }
 ],
 "metadata": {
  "kernelspec": {
   "display_name": "base",
   "language": "python",
   "name": "python3"
  },
  "language_info": {
   "codemirror_mode": {
    "name": "ipython",
    "version": 3
   },
   "file_extension": ".py",
   "mimetype": "text/x-python",
   "name": "python",
   "nbconvert_exporter": "python",
   "pygments_lexer": "ipython3",
   "version": "3.11.5"
  }
 },
 "nbformat": 4,
 "nbformat_minor": 2
}
