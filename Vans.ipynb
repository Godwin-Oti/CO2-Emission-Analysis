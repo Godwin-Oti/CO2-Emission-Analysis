{
 "cells": [
  {
   "cell_type": "code",
   "execution_count": 2,
   "metadata": {},
   "outputs": [
    {
     "name": "stdout",
     "output_type": "stream",
     "text": [
      "Hallo World!\n"
     ]
    }
   ],
   "source": [
    "print(\"Hallo World!\")"
   ]
  },
  {
   "cell_type": "code",
   "execution_count": 1,
   "metadata": {},
   "outputs": [],
   "source": [
    "# importing libraries\n",
    "import pandas as pd\n",
    "import numpy as np\n",
    "import matplotlib as pyplt\n",
    "import seaborn as sns"
   ]
  },
  {
   "cell_type": "markdown",
   "metadata": {},
   "source": [
    "## Loading Data set"
   ]
  },
  {
   "cell_type": "code",
   "execution_count": 3,
   "metadata": {},
   "outputs": [],
   "source": [
    "## loading raw van Data set\n",
    "vans=pd.read_csv(\"2021_Vans_Raw.csv\")"
   ]
  },
  {
   "cell_type": "code",
   "execution_count": 4,
   "metadata": {},
   "outputs": [
    {
     "data": {
      "text/html": [
       "<div>\n",
       "<style scoped>\n",
       "    .dataframe tbody tr th:only-of-type {\n",
       "        vertical-align: middle;\n",
       "    }\n",
       "\n",
       "    .dataframe tbody tr th {\n",
       "        vertical-align: top;\n",
       "    }\n",
       "\n",
       "    .dataframe thead th {\n",
       "        text-align: right;\n",
       "    }\n",
       "</style>\n",
       "<table border=\"1\" class=\"dataframe\">\n",
       "  <thead>\n",
       "    <tr style=\"text-align: right;\">\n",
       "      <th></th>\n",
       "      <th>OBFCM data source</th>\n",
       "      <th>ID</th>\n",
       "      <th>OBFCM ReportingPeriod</th>\n",
       "      <th>Registration Year</th>\n",
       "      <th>Total fuel consumed (lifetime) (l)</th>\n",
       "      <th>Total distance travelled (lifetime) (km)</th>\n",
       "      <th>Total distance travelled in charge depleting operation with engine off (lifetime) (km)</th>\n",
       "      <th>Total distance travelled in charge depleting operation with engine running (lifetime) (km)</th>\n",
       "      <th>Total distance travelled in driver-selectable charge increasing operation (lifetime)  (km)</th>\n",
       "      <th>Total fuel consumed in charge depleting operation (lifetime) (l)</th>\n",
       "      <th>Total fuel consumed in driver-selectable charge increasing operation (lifetime) (l)</th>\n",
       "      <th>Total grid energy into the battery (lifetime) (kWh)</th>\n",
       "      <th>Used in calculation</th>\n",
       "    </tr>\n",
       "  </thead>\n",
       "  <tbody>\n",
       "    <tr>\n",
       "      <th>0</th>\n",
       "      <td>OEM</td>\n",
       "      <td>5765924</td>\n",
       "      <td>2021</td>\n",
       "      <td>2021</td>\n",
       "      <td>302.89</td>\n",
       "      <td>5116.0</td>\n",
       "      <td>NaN</td>\n",
       "      <td>NaN</td>\n",
       "      <td>NaN</td>\n",
       "      <td>NaN</td>\n",
       "      <td>NaN</td>\n",
       "      <td>NaN</td>\n",
       "      <td>1</td>\n",
       "    </tr>\n",
       "    <tr>\n",
       "      <th>1</th>\n",
       "      <td>OEM</td>\n",
       "      <td>5766790</td>\n",
       "      <td>2021</td>\n",
       "      <td>2021</td>\n",
       "      <td>233.31</td>\n",
       "      <td>3525.7</td>\n",
       "      <td>NaN</td>\n",
       "      <td>NaN</td>\n",
       "      <td>NaN</td>\n",
       "      <td>NaN</td>\n",
       "      <td>NaN</td>\n",
       "      <td>NaN</td>\n",
       "      <td>1</td>\n",
       "    </tr>\n",
       "    <tr>\n",
       "      <th>2</th>\n",
       "      <td>OEM</td>\n",
       "      <td>8407539</td>\n",
       "      <td>2021</td>\n",
       "      <td>2021</td>\n",
       "      <td>683.79</td>\n",
       "      <td>10267.4</td>\n",
       "      <td>NaN</td>\n",
       "      <td>NaN</td>\n",
       "      <td>NaN</td>\n",
       "      <td>NaN</td>\n",
       "      <td>NaN</td>\n",
       "      <td>NaN</td>\n",
       "      <td>1</td>\n",
       "    </tr>\n",
       "    <tr>\n",
       "      <th>3</th>\n",
       "      <td>OEM</td>\n",
       "      <td>8407565</td>\n",
       "      <td>2021</td>\n",
       "      <td>2021</td>\n",
       "      <td>1300.49</td>\n",
       "      <td>17753.3</td>\n",
       "      <td>NaN</td>\n",
       "      <td>NaN</td>\n",
       "      <td>NaN</td>\n",
       "      <td>NaN</td>\n",
       "      <td>NaN</td>\n",
       "      <td>NaN</td>\n",
       "      <td>1</td>\n",
       "    </tr>\n",
       "    <tr>\n",
       "      <th>4</th>\n",
       "      <td>OEM</td>\n",
       "      <td>8407505</td>\n",
       "      <td>2021</td>\n",
       "      <td>2021</td>\n",
       "      <td>1157.96</td>\n",
       "      <td>15453.3</td>\n",
       "      <td>NaN</td>\n",
       "      <td>NaN</td>\n",
       "      <td>NaN</td>\n",
       "      <td>NaN</td>\n",
       "      <td>NaN</td>\n",
       "      <td>NaN</td>\n",
       "      <td>1</td>\n",
       "    </tr>\n",
       "  </tbody>\n",
       "</table>\n",
       "</div>"
      ],
      "text/plain": [
       "  OBFCM data source       ID  OBFCM ReportingPeriod  Registration Year  \\\n",
       "0               OEM  5765924                   2021               2021   \n",
       "1               OEM  5766790                   2021               2021   \n",
       "2               OEM  8407539                   2021               2021   \n",
       "3               OEM  8407565                   2021               2021   \n",
       "4               OEM  8407505                   2021               2021   \n",
       "\n",
       "   Total fuel consumed (lifetime) (l)  \\\n",
       "0                              302.89   \n",
       "1                              233.31   \n",
       "2                              683.79   \n",
       "3                             1300.49   \n",
       "4                             1157.96   \n",
       "\n",
       "   Total distance travelled (lifetime) (km)  \\\n",
       "0                                    5116.0   \n",
       "1                                    3525.7   \n",
       "2                                   10267.4   \n",
       "3                                   17753.3   \n",
       "4                                   15453.3   \n",
       "\n",
       "   Total distance travelled in charge depleting operation with engine off (lifetime) (km)  \\\n",
       "0                                                NaN                                        \n",
       "1                                                NaN                                        \n",
       "2                                                NaN                                        \n",
       "3                                                NaN                                        \n",
       "4                                                NaN                                        \n",
       "\n",
       "   Total distance travelled in charge depleting operation with engine running (lifetime) (km)  \\\n",
       "0                                                NaN                                            \n",
       "1                                                NaN                                            \n",
       "2                                                NaN                                            \n",
       "3                                                NaN                                            \n",
       "4                                                NaN                                            \n",
       "\n",
       "   Total distance travelled in driver-selectable charge increasing operation (lifetime)  (km)  \\\n",
       "0                                                NaN                                            \n",
       "1                                                NaN                                            \n",
       "2                                                NaN                                            \n",
       "3                                                NaN                                            \n",
       "4                                                NaN                                            \n",
       "\n",
       "   Total fuel consumed in charge depleting operation (lifetime) (l)  \\\n",
       "0                                                NaN                  \n",
       "1                                                NaN                  \n",
       "2                                                NaN                  \n",
       "3                                                NaN                  \n",
       "4                                                NaN                  \n",
       "\n",
       "   Total fuel consumed in driver-selectable charge increasing operation (lifetime) (l)  \\\n",
       "0                                                NaN                                     \n",
       "1                                                NaN                                     \n",
       "2                                                NaN                                     \n",
       "3                                                NaN                                     \n",
       "4                                                NaN                                     \n",
       "\n",
       "   Total grid energy into the battery (lifetime) (kWh)  Used in calculation  \n",
       "0                                                NaN                      1  \n",
       "1                                                NaN                      1  \n",
       "2                                                NaN                      1  \n",
       "3                                                NaN                      1  \n",
       "4                                                NaN                      1  "
      ]
     },
     "execution_count": 4,
     "metadata": {},
     "output_type": "execute_result"
    }
   ],
   "source": [
    "vans.head()"
   ]
  },
  {
   "cell_type": "code",
   "execution_count": 5,
   "metadata": {},
   "outputs": [
    {
     "name": "stdout",
     "output_type": "stream",
     "text": [
      "<class 'pandas.core.frame.DataFrame'>\n",
      "RangeIndex: 12301 entries, 0 to 12300\n",
      "Data columns (total 13 columns):\n",
      " #   Column                                                                                      Non-Null Count  Dtype  \n",
      "---  ------                                                                                      --------------  -----  \n",
      " 0   OBFCM data source                                                                           12301 non-null  object \n",
      " 1   ID                                                                                          12301 non-null  int64  \n",
      " 2   OBFCM ReportingPeriod                                                                       12301 non-null  int64  \n",
      " 3   Registration Year                                                                           12301 non-null  int64  \n",
      " 4   Total fuel consumed (lifetime) (l)                                                          12301 non-null  float64\n",
      " 5   Total distance travelled (lifetime) (km)                                                    12301 non-null  float64\n",
      " 6   Total distance travelled in charge depleting operation with engine off (lifetime) (km)      4666 non-null   float64\n",
      " 7   Total distance travelled in charge depleting operation with engine running (lifetime) (km)  4666 non-null   float64\n",
      " 8   Total distance travelled in driver-selectable charge increasing operation (lifetime)  (km)  4666 non-null   float64\n",
      " 9   Total fuel consumed in charge depleting operation (lifetime) (l)                            4666 non-null   float64\n",
      " 10  Total fuel consumed in driver-selectable charge increasing operation (lifetime) (l)         4666 non-null   float64\n",
      " 11  Total grid energy into the battery (lifetime) (kWh)                                         4666 non-null   float64\n",
      " 12  Used in calculation                                                                         12301 non-null  int64  \n",
      "dtypes: float64(8), int64(4), object(1)\n",
      "memory usage: 1.2+ MB\n"
     ]
    }
   ],
   "source": [
    "vans.info()"
   ]
  },
  {
   "cell_type": "code",
   "execution_count": 6,
   "metadata": {},
   "outputs": [
    {
     "data": {
      "text/plain": [
       "OBFCM data source                                                                                0\n",
       "ID                                                                                               0\n",
       "OBFCM ReportingPeriod                                                                            0\n",
       "Registration Year                                                                                0\n",
       "Total fuel consumed (lifetime) (l)                                                               0\n",
       "Total distance travelled (lifetime) (km)                                                         0\n",
       "Total distance travelled in charge depleting operation with engine off (lifetime) (km)        7635\n",
       "Total distance travelled in charge depleting operation with engine running (lifetime) (km)    7635\n",
       "Total distance travelled in driver-selectable charge increasing operation (lifetime)  (km)    7635\n",
       "Total fuel consumed in charge depleting operation (lifetime) (l)                              7635\n",
       "Total fuel consumed in driver-selectable charge increasing operation (lifetime) (l)           7635\n",
       "Total grid energy into the battery (lifetime) (kWh)                                           7635\n",
       "Used in calculation                                                                              0\n",
       "dtype: int64"
      ]
     },
     "execution_count": 6,
     "metadata": {},
     "output_type": "execute_result"
    }
   ],
   "source": [
    "vans.isnull().sum()"
   ]
  }
 ],
 "metadata": {
  "kernelspec": {
   "display_name": "base",
   "language": "python",
   "name": "python3"
  },
  "language_info": {
   "codemirror_mode": {
    "name": "ipython",
    "version": 3
   },
   "file_extension": ".py",
   "mimetype": "text/x-python",
   "name": "python",
   "nbconvert_exporter": "python",
   "pygments_lexer": "ipython3",
   "version": "3.11.5"
  }
 },
 "nbformat": 4,
 "nbformat_minor": 2
}
